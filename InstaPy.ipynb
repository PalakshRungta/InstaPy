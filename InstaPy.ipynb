{
 "cells": [
  {
   "cell_type": "markdown",
   "metadata": {},
   "source": [
    "<h1><center>InstaPy</center></h1>"
   ]
  },
  {
   "cell_type": "markdown",
   "metadata": {},
   "source": [
    "# Project Description"
   ]
  },
  {
   "cell_type": "markdown",
   "metadata": {},
   "source": [
    "The following code helps you learn more about yourself by downloading your Instagram data!\n",
    "\n",
    "With this code, you could:\n",
    "1. Obtain a list of people who you follow but don't follow you back.\n",
    "2. Find your most liked pages.\n",
    "3. Search for messages by text (even deleted messages).\n",
    "4. Search for messages by user name (even deleted messages).\n",
    "\n",
    "To be able to run this code successfully, you will need to follow the steps below:\n",
    "\n",
    "1. Go to Settings under the Instagram app.\n",
    "2. Go to Security and click on Download Data. This will prompt you the type your email ID. The data transfer process takes about 2-3 business days.\n",
    "3. Download your data from the email you recieve.\n",
    "4. Unzip the file and rename the part 1 folder named something along the lines <b>\"userName_date_part_1\"</b> to <b>\"instagram_data_1\"</b>\n",
    "5. Make sure this notebook/file is in the same location as the folder.\n",
    "6. Run the file and have fun!\n",
    "\n",
    "This project made me realize what type of data large corporations like Instagram store and use. What I found the most fascinating and shocking was to see messages that I thought I had 'unsent' or 'deleted' previously stored by Instagram! With the search tool I made below, you can even <b>search for messages you had unsent or deleted from Instagram </b>. Hope this project educates you on what data Instagram stores on you, including data that you would personally want to be deleted!"
   ]
  },
  {
   "cell_type": "markdown",
   "metadata": {},
   "source": [
    "This project is available on GitHub!\n",
    "\n",
    "Link to the repository: https://github.com/PalakshRungta/InstaPy\n",
    "\n",
    "Account name: PalakshRungta"
   ]
  },
  {
   "cell_type": "markdown",
   "metadata": {},
   "source": [
    "# Project Code"
   ]
  },
  {
   "cell_type": "markdown",
   "metadata": {},
   "source": [
    "Run the following code and you are good to go! Have fun finding out more about yourself!"
   ]
  },
  {
   "cell_type": "code",
   "execution_count": null,
   "metadata": {},
   "outputs": [],
   "source": [
    "import json\n",
    "import os\n",
    "import pandas as pd\n",
    "import matplotlib.pyplot as plt\n",
    "import collections\n",
    "from collections import Counter\n",
    "from pprint import pprint"
   ]
  },
  {
   "cell_type": "code",
   "execution_count": null,
   "metadata": {},
   "outputs": [],
   "source": [
    "#Getting the current directory of the file\n",
    "cwd = os.getcwd()"
   ]
  },
  {
   "cell_type": "code",
   "execution_count": null,
   "metadata": {},
   "outputs": [],
   "source": [
    "with open(cwd + '/instagram_data_1/connections.json') as file1:\n",
    "    followers_data = json.load(file1)\n",
    "\n",
    "with open(cwd + '/instagram_data_1/likes.json') as file2:\n",
    "    likes_data = json.load(file2)\n",
    "    \n",
    "with open(cwd + '/instagram_data_1/messages.json') as file3:\n",
    "    messages_data = json.load(file3)"
   ]
  },
  {
   "cell_type": "code",
   "execution_count": null,
   "metadata": {},
   "outputs": [],
   "source": [
    "#Returns the list of people who you follow but don't follow you back\n",
    "\n",
    "def unfollowers(insta_array):\n",
    "    following = insta_array['following']\n",
    "    followers = insta_array['followers']\n",
    "    array_following = list(following.keys())\n",
    "    array_followers = list(followers.keys())\n",
    "    \n",
    "    counter = 0\n",
    "    array_unfollowers = []\n",
    "    for item in array_following:\n",
    "        if item not in array_followers:\n",
    "            array_unfollowers.append(item)\n",
    "            counter += 1\n",
    "    \n",
    "    print(\"The number of people you follow but don't follow you back: \" + str(counter))\n",
    "    \n",
    "    return array_unfollowers"
   ]
  },
  {
   "cell_type": "code",
   "execution_count": null,
   "metadata": {},
   "outputs": [],
   "source": [
    "#Returns a list of all the pages' posts you have liked\n",
    "\n",
    "def mediaLikes(insta_array):\n",
    "    likes_array = insta_array['media_likes']\n",
    "    new_likes_array = []\n",
    "    for x in likes_array:\n",
    "        new_likes_array.append(x[1])\n",
    "    \n",
    "    counts = collections.Counter(new_likes_array)\n",
    "    array_likes = sorted(new_likes_array, key=lambda x: -counts[x])\n",
    "    \n",
    "    return array_likes"
   ]
  },
  {
   "cell_type": "code",
   "execution_count": null,
   "metadata": {},
   "outputs": [],
   "source": [
    "'''Searches for the keyword inputted in the message history and\n",
    "returns a list of messages with the sender name, message sent, and date created relating to it'''\n",
    "\n",
    "def searchMessagesByText():\n",
    "    user_val = input()\n",
    "\n",
    "    list_of_messages = []\n",
    "    \n",
    "    for item in messages_data:\n",
    "        for x in item['conversation']:\n",
    "            \n",
    "            text_msg = x.get('text')\n",
    "            name_of_sender = x.get('sender')\n",
    "            time_sent = x.get('created_at')\n",
    "            \n",
    "            #To only get the yyyy-mm-dd format\n",
    "            time_sent = time_sent[:10]\n",
    "\n",
    "            if text_msg == None:\n",
    "                pass\n",
    "            \n",
    "            else:\n",
    "                if user_val.lower() in text_msg.lower():\n",
    "                    list_of_messages.append([name_of_sender, text_msg, time_sent])\n",
    "                    \n",
    "    if not list_of_messages:\n",
    "        print(\"Error 404: No results found\")\n",
    "    \n",
    "    else:\n",
    "        return list_of_messages"
   ]
  },
  {
   "cell_type": "code",
   "execution_count": null,
   "metadata": {},
   "outputs": [],
   "source": [
    "'''Returns a list of all messages of a particular sender with the\n",
    "sender name, message sent,  date created, and the media attached relating to it'''\n",
    "\n",
    "def searchMessagesByName():\n",
    "\n",
    "    user_val = input()\n",
    "    list_of_messages = []\n",
    "    \n",
    "    for item in messages_data:\n",
    "        for x in item['conversation']:\n",
    "            \n",
    "            text_msg = x.get('text')\n",
    "            name_of_sender = x.get('sender')\n",
    "            time_sent = x.get('created_at')\n",
    "            media_data = x.get('media')\n",
    "            \n",
    "            #To only get the yyyy-mm-dd format\n",
    "            time_sent = time_sent[:10]\n",
    "            \n",
    "            if name_of_sender == None:\n",
    "                pass\n",
    "            \n",
    "            else:\n",
    "                if user_val.lower() in name_of_sender:\n",
    "                    list_of_messages.append([name_of_sender, text_msg, time_sent, media_data])\n",
    "    if not list_of_messages:\n",
    "        print(\"Error 404: No results found\")\n",
    "    \n",
    "    else:\n",
    "        return list_of_messages"
   ]
  },
  {
   "cell_type": "code",
   "execution_count": null,
   "metadata": {},
   "outputs": [],
   "source": [
    "array1 = unfollowers(followers_data)\n",
    "pprint(array1)\n",
    "\n",
    "#List of all the people who you follow but don't follow you back"
   ]
  },
  {
   "cell_type": "code",
   "execution_count": null,
   "metadata": {},
   "outputs": [],
   "source": [
    "array2 = mediaLikes(likes_data)\n",
    "\n",
    "letter_counts = Counter(array2[:15000])\n",
    "df = pd.DataFrame.from_dict(letter_counts, orient='index')\n",
    "df.plot(kind = 'pie', subplots = 'True')\n",
    "\n",
    "#Pie chart showing the top most liked pages"
   ]
  },
  {
   "cell_type": "code",
   "execution_count": null,
   "metadata": {},
   "outputs": [],
   "source": [
    "#Run this to search for messages by the text content\n",
    "\n",
    "searchMessagesByText()"
   ]
  },
  {
   "cell_type": "code",
   "execution_count": null,
   "metadata": {},
   "outputs": [],
   "source": [
    "#Run this to search for messages by the user name\n",
    "\n",
    "searchMessagesByName()"
   ]
  }
 ],
 "metadata": {
  "kernelspec": {
   "display_name": "Python 3",
   "language": "python",
   "name": "python3"
  },
  "language_info": {
   "codemirror_mode": {
    "name": "ipython",
    "version": 3
   },
   "file_extension": ".py",
   "mimetype": "text/x-python",
   "name": "python",
   "nbconvert_exporter": "python",
   "pygments_lexer": "ipython3",
   "version": "3.6.8"
  }
 },
 "nbformat": 4,
 "nbformat_minor": 2
}
